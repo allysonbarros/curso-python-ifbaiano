{
 "cells": [
  {
   "cell_type": "markdown",
   "metadata": {},
   "source": [
    "# Curso de Extensão - Desenvolvimento Python e Django voltado para o SUAP\n",
    "\n",
    "## 07 - Bibliotecas do Python\n",
    "\n",
    "### Baterias inclusas\n",
    "\n",
    "-   Python já vem com diversas bibliotecas (módulos e pacotes) em sua distribuição padrão, dando origem à frase “Python vem com baterias (pilhas) inclusas”\n",
    "    \n",
    "-   Além das bibliotecas padrão, Python possui uma gama enorme de bibliotecas de terceiros\n",
    "    \n",
    "-   As bibliotecas de terceiros podem ser encontradas no índice de pacotes python, pypi: https://pypi.python.org.\n",
    "\n",
    "#### Exemplo\n",
    "\n",
    "```\n",
    "import math\n",
    "print math.sqrt(25)\n",
    "# 5.0\n",
    "print math.pow(25, 2)\n",
    "# 625.0\n",
    "\n",
    "from datetime import datetime\n",
    "print datetime.now()\n",
    "# 2018-09-12 15:29:43.440172\n",
    "print datetime.today().month\n",
    "# 9\n",
    "\n",
    "import sys\n",
    "from pprint import pprint as pp\n",
    "pp(sys.path)\n",
    "# ['/Users/allysonbarros/.virtualenvs/suap/bin']\n",
    "```"
   ]
  },
  {
   "cell_type": "code",
   "execution_count": 2,
   "metadata": {},
   "outputs": [
    {
     "name": "stdout",
     "output_type": "stream",
     "text": [
      "5.0\n",
      "625.0\n",
      "2018-09-15 15:42:03.587032\n",
      "9\n",
      "['',\n",
      " '/Users/allysonbarros/.virtualenvs/curso_ifbaiano/lib/python27.zip',\n",
      " '/Users/allysonbarros/.virtualenvs/curso_ifbaiano/lib/python2.7',\n",
      " '/Users/allysonbarros/.virtualenvs/curso_ifbaiano/lib/python2.7/plat-darwin',\n",
      " '/Users/allysonbarros/.virtualenvs/curso_ifbaiano/lib/python2.7/plat-mac',\n",
      " '/Users/allysonbarros/.virtualenvs/curso_ifbaiano/lib/python2.7/plat-mac/lib-scriptpackages',\n",
      " '/Users/allysonbarros/.virtualenvs/curso_ifbaiano/lib/python2.7/lib-tk',\n",
      " '/Users/allysonbarros/.virtualenvs/curso_ifbaiano/lib/python2.7/lib-old',\n",
      " '/Users/allysonbarros/.virtualenvs/curso_ifbaiano/lib/python2.7/lib-dynload',\n",
      " '/usr/local/Cellar/python@2/2.7.15_1/Frameworks/Python.framework/Versions/2.7/lib/python2.7',\n",
      " '/usr/local/Cellar/python@2/2.7.15_1/Frameworks/Python.framework/Versions/2.7/lib/python2.7/plat-darwin',\n",
      " '/usr/local/Cellar/python@2/2.7.15_1/Frameworks/Python.framework/Versions/2.7/lib/python2.7/lib-tk',\n",
      " '/usr/local/Cellar/python@2/2.7.15_1/Frameworks/Python.framework/Versions/2.7/lib/python2.7/plat-mac',\n",
      " '/usr/local/Cellar/python@2/2.7.15_1/Frameworks/Python.framework/Versions/2.7/lib/python2.7/plat-mac/lib-scriptpackages',\n",
      " '/Users/allysonbarros/.virtualenvs/curso_ifbaiano/lib/python2.7/site-packages',\n",
      " '/Users/allysonbarros/.virtualenvs/curso_ifbaiano/lib/python2.7/site-packages/IPython/extensions',\n",
      " '/Users/allysonbarros/.ipython']\n"
     ]
    }
   ],
   "source": [
    "import math\n",
    "print math.sqrt(25)\n",
    "print math.pow(25, 2)\n",
    "\n",
    "from datetime import datetime\n",
    "print datetime.now()\n",
    "print datetime.today().month\n",
    "\n",
    "import sys\n",
    "from pprint import pprint as pp\n",
    "pp(sys.path)"
   ]
  },
  {
   "cell_type": "markdown",
   "metadata": {},
   "source": [
    "### Pacotes\n",
    "\n",
    "-   Pacotes são um mecanismo interessante para organizar módulos\n",
    "    \n",
    "-   Um pacote nada mais é do que um diretório contendo módulos ou subdiretórios\n",
    "    \n",
    "-   Esse diretório precisa de um arquivo chamado __init__.py para se tornar um pacote\n",
    "    \n",
    "-   Ao importar um pacote, ele é procurado na lista de caminhos sys.path\n",
    "    \n",
    "-   Normalmente não “executamos” um pacote\n",
    "\n",
    "#### Exemplo\n",
    "\n",
    "```\n",
    "import math\n",
    "print math.sqrt(25)\n",
    "# 5.0\n",
    "print math.pow(25, 2)\n",
    "# 625.0\n",
    "\n",
    "from datetime import datetime\n",
    "print datetime.now()\n",
    "# 2018-09-12 15:29:43.440172\n",
    "print datetime.today().month\n",
    "# 9\n",
    "\n",
    "import sys\n",
    "from pprint import pprint as pp\n",
    "pp(sys.path)\n",
    "# ['/Users/allysonbarros/.virtualenvs/suap/bin']\n",
    "```"
   ]
  },
  {
   "cell_type": "code",
   "execution_count": null,
   "metadata": {},
   "outputs": [],
   "source": []
  }
 ],
 "metadata": {
  "kernelspec": {
   "display_name": "Python 2",
   "language": "python",
   "name": "python2"
  },
  "language_info": {
   "codemirror_mode": {
    "name": "ipython",
    "version": 2
   },
   "file_extension": ".py",
   "mimetype": "text/x-python",
   "name": "python",
   "nbconvert_exporter": "python",
   "pygments_lexer": "ipython2",
   "version": "2.7.15"
  }
 },
 "nbformat": 4,
 "nbformat_minor": 2
}
