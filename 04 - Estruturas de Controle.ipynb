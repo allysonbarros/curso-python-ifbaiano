{
 "cells": [
  {
   "cell_type": "markdown",
   "metadata": {},
   "source": [
    "# Curso de Extensão - Desenvolvimento Python e Django voltado para o SUAP\n",
    "\n",
    "## 04 - Estruturas de Controle\n",
    "\n",
    "### Condicional \"if/elif/else\"\n",
    "\n",
    "-   Comando de decisão.\n",
    "    \n",
    "-   Executa o bloco de código em *if* ou *elif* caso a condição for verdadeira.\n",
    "    \n",
    "-   Se nenhuma condição for verdadeira executa o bloco *else*\n",
    "\n",
    "-   Não é necessária a utilização de parênteses na expressão\n",
    "\n",
    "#### Exemplo\n",
    "\n",
    "```\n",
    "a = input(\"A:\")\n",
    "b = input(\"B:\")\n",
    "\n",
    "if a > b:\n",
    "    print u\"A é maior que B\"\n",
    "elif b > a:\n",
    "    print u\"B é maior que A\"\n",
    "else:\n",
    "    print u\"A e B são iguais\"\n",
    "\n",
    "# \"Operador Ternário\" em Python\n",
    "print u\"A é maior\" if a > b else u\"A não é maior\"\n",
    "\n",
    "```"
   ]
  },
  {
   "cell_type": "code",
   "execution_count": 65,
   "metadata": {},
   "outputs": [
    {
     "name": "stdout",
     "output_type": "stream",
     "text": [
      "A:5\n",
      "B:3\n",
      "A é maior que B\n",
      "A é maior\n"
     ]
    }
   ],
   "source": [
    "a = input(\"A:\")\n",
    "b = input(\"B:\")\n",
    "\n",
    "if a > b:\n",
    "    print u\"A é maior que B\"\n",
    "elif b > a:\n",
    "    print u\"B é maior que A\"\n",
    "else:\n",
    "    print u\"A e B são iguais\"\n",
    "\n",
    "# \"Operador Ternário\" em Python\n",
    "print u\"A é maior\" if a > b else u\"A não é maior\""
   ]
  },
  {
   "cell_type": "markdown",
   "metadata": {},
   "source": [
    "### Laço de repetição “while”\n",
    "\n",
    "-   Executa o bloco de código, em loop, enquanto a condição for verdadeira\n",
    "    \n",
    "-   A cláusula *else* pode ser usada e será executada caso o loop termine normalmente (sem break)\n",
    "\n",
    "#### Exemplo\n",
    "\n",
    "```\n",
    "import sys, time\n",
    "\n",
    "d = raw_input(\"Despertar (HH:MM): \")\n",
    "while time.strftime(\"%H:%M\") != d:\n",
    "    try:\n",
    "        print \"tick\",\n",
    "        sys.stdout.flush()\n",
    "        time.sleep(0.5)\n",
    "        print \"tack\",\n",
    "        sys.stdout.flush()\n",
    "        time.sleep(0.5)\n",
    "    except KeyboardInterrupt:\n",
    "        break\n",
    "else:\n",
    "    print \"\\n\\nTRIM!\"\n",
    "    sys.exit(0)\n",
    "print \"\\n\\nInterrompido!\"\n",
    "\n",
    "```"
   ]
  },
  {
   "cell_type": "code",
   "execution_count": 64,
   "metadata": {},
   "outputs": [
    {
     "name": "stdout",
     "output_type": "stream",
     "text": [
      "Despertar (HH:MM): \n",
      "tick tack tick tack tick tack tick tack tick tack tick tack tick \n",
      "\n",
      "Interrompido!\n"
     ]
    }
   ],
   "source": [
    "import sys, time\n",
    "\n",
    "d = raw_input(\"Despertar (HH:MM): \")\n",
    "while time.strftime(\"%H:%M\") != d:\n",
    "    try:\n",
    "        print \"tick\",\n",
    "        sys.stdout.flush()\n",
    "        time.sleep(0.5)\n",
    "        print \"tack\",\n",
    "        sys.stdout.flush()\n",
    "        time.sleep(0.5)\n",
    "    except KeyboardInterrupt:\n",
    "        break\n",
    "else:\n",
    "    print \"\\n\\nTRIM!\\a\\a\\a\"\n",
    "    sys.exit(0)\n",
    "print \"\\n\\nInterrompido!\""
   ]
  },
  {
   "cell_type": "markdown",
   "metadata": {},
   "source": [
    "### Laço de repetição “for”\n",
    "\n",
    "-   Itera sobre os elementos de um objeto (iterador, sequência, ...)\n",
    "    \n",
    "-   Pode ser usado na forma: 'for key, valor in dic.items(): ...' onde ele faz atribuição por tupla\n",
    "\n",
    "#### Exemplo\n",
    "\n",
    "```\n",
    "string = u'Teste'\n",
    "for s in string:\n",
    "    print s\n",
    "    \n",
    "for i in range(0, 5):\n",
    "    print i\n",
    "    \n",
    "meu_dicionario = {'nome': 'Joaquim', 'idade': 35}\n",
    "for chave, valor in meu_dicionario.items():\n",
    "    print chave, ':', valor\n",
    "```"
   ]
  },
  {
   "cell_type": "code",
   "execution_count": 18,
   "metadata": {},
   "outputs": [
    {
     "name": "stdout",
     "output_type": "stream",
     "text": [
      "T\n",
      "e\n",
      "s\n",
      "t\n",
      "e\n",
      "0\n",
      "1\n",
      "2\n",
      "3\n",
      "4\n",
      "idade : 35\n",
      "nome : Joaquim\n"
     ]
    }
   ],
   "source": [
    "string = u'Teste'\n",
    "for s in string:\n",
    "    print s\n",
    "    \n",
    "for i in range(0, 5):\n",
    "    print i\n",
    "    \n",
    "meu_dicionario = {'nome': 'Joaquim', 'idade': 35}\n",
    "for chave, valor in meu_dicionario.items():\n",
    "    print chave, ':', valor"
   ]
  },
  {
   "cell_type": "markdown",
   "metadata": {},
   "source": [
    "### Comando “pass”\n",
    "\n",
    "-   Usado para definir algo vazio, mas que é necessário sintaticamente\n",
    "    \n",
    "-   Python precisa disso, pois os blocos são definidos por indentação\n",
    "    \n",
    "-   Usualmente usado para definir classes mínimas\n",
    "    \n",
    "-   Pode ser usado como marcador em funções e condicionais, para lembrar de implementar algo mais tarde\n",
    "\n",
    "#### Exemplo\n",
    "\n",
    "```\n",
    "class Abstrata:\n",
    "    def metodo_abstrato(self):\n",
    "        pass\n",
    "\n",
    "try:\n",
    "    print 1 / 0\n",
    "except ZeroDivisionError:\n",
    "    pass # ignora exceção\n",
    " \n",
    "```"
   ]
  },
  {
   "cell_type": "code",
   "execution_count": 19,
   "metadata": {},
   "outputs": [],
   "source": [
    "class Abstrata:\n",
    "    def metodo_abstrato(self):\n",
    "        pass\n",
    "\n",
    "try:\n",
    "    print 1 / 0\n",
    "except ZeroDivisionError:\n",
    "    pass # ignora exceção"
   ]
  },
  {
   "cell_type": "markdown",
   "metadata": {},
   "source": [
    "### Comando “pass”\n",
    "\n",
    "-   Gera um iterador de números, similar a uma sequência\n",
    "    \n",
    "-   Pode ser transformado em lista\n",
    "    \n",
    "-   Pode ser fornecido o número inicial e final da faixa desejada\n",
    "    \n",
    "-   Um terceiro argumento opcional serve como incremento\n",
    "    \n",
    "-   o uso mais comum é em laços for.\n",
    "\n",
    "#### Exemplo\n",
    "\n",
    "```\n",
    "print range(5)\n",
    "print range(10, 20)\n",
    "print range(100, 2000, 150)\n",
    "```"
   ]
  },
  {
   "cell_type": "code",
   "execution_count": 24,
   "metadata": {},
   "outputs": [
    {
     "name": "stdout",
     "output_type": "stream",
     "text": [
      "[0, 1, 2, 3, 4]\n",
      "[10, 11, 12, 13, 14, 15, 16, 17, 18, 19]\n",
      "[100, 250, 400, 550, 700, 850, 1000, 1150, 1300, 1450, 1600, 1750, 1900]\n"
     ]
    }
   ],
   "source": [
    "print range(5)\n",
    "print range(10, 20)\n",
    "print range(100, 2000, 150)"
   ]
  },
  {
   "cell_type": "markdown",
   "metadata": {},
   "source": [
    "### Funções definidas pelo usuário\n",
    "\n",
    "-   É usada a instrução *def* para definir funções, seguido pelo nome e seus argumentos entre parênteses\n",
    "    \n",
    "-   O corpo da função começa na linha seguinte e precisa ser indentado\n",
    "    \n",
    "-   A primeira linha pode conter a documentação, escrita usando strings multilinha, as docstrings (com aspas triplas)\n",
    "\n",
    "-   Usamos a palavra-chave return para fornecer o valor de retorno.\n",
    "    \n",
    "\n",
    "\t-   Pode retornar mais de um valor ao mesmo tempo (tupla)\n",
    "    \n",
    "\n",
    "-   Python não possui procedures, funções sem retorno definido retornam *None*, o valor nulo de Python\n",
    "\n",
    "#### Exemplo\n",
    "\n",
    "```\n",
    "def somar(a, b):\n",
    "    '''soma dois valores e retorna o resultado'''\n",
    "    return a + b\n",
    "print somar(1, 2)\n",
    "\n",
    "def retornar(a, b, c):\n",
    "    return a, b, c\n",
    "print retornar(1, 2, 3)\n",
    "\n",
    "def imprimir(texto):\n",
    "    print texto\n",
    "print imprimir('Teste!')\n",
    "\n",
    "print help(somar)\n",
    "```"
   ]
  },
  {
   "cell_type": "code",
   "execution_count": 30,
   "metadata": {},
   "outputs": [
    {
     "name": "stdout",
     "output_type": "stream",
     "text": [
      "3\n",
      "(1, 2, 3)\n",
      "Teste!\n",
      "None\n",
      "Help on function somar in module __main__:\n",
      "\n",
      "somar(a, b)\n",
      "    soma dois valores e retorna o resultado\n",
      "\n",
      "None\n"
     ]
    }
   ],
   "source": [
    "def somar(a, b):\n",
    "    '''soma dois valores e retorna o resultado'''\n",
    "    return a + b\n",
    "print somar(1, 2)\n",
    "\n",
    "def retornar(a, b, c):\n",
    "    return a, b, c\n",
    "print retornar(1, 2, 3)\n",
    "\n",
    "def imprimir(texto):\n",
    "    print texto\n",
    "print imprimir('Teste!')\n",
    "\n",
    "print help(somar)"
   ]
  },
  {
   "cell_type": "markdown",
   "metadata": {},
   "source": [
    "### Passagem de Parâmetros\n",
    "\n",
    "-   param => nome da variável local que receberá o valor\n",
    "    \n",
    "-   param=valor => mesmo que param mas assume valor default caso não informado\n",
    "    \n",
    "-   \\*params => lista dos parâmetros adicionais\n",
    "    \n",
    "-   \\*\\*dparams => dicionário com parâmetros adicionais passados na forma *param=valor*\n",
    "\n",
    "#### Exemplo\n",
    "\n",
    "```\n",
    "def incrementar(numero, incremento):\n",
    "    numero += incremento\n",
    "    return numero\n",
    "print incrementar(10, 5)\n",
    "\n",
    "def incrementar(numero, incremento=1):\n",
    "    numero += incremento\n",
    "    return numero\n",
    "print incrementar(10)\n",
    "\n",
    "def imprimir_valores(x, y=2, *args, **kwargs):\n",
    "    print x, y, args, kwargs\n",
    "imprimir_valores(1)\n",
    "imprimir_valores(1, 3)\n",
    "imprimir_valores(1, 2, 3, 4, a1=5, a2=6)\n",
    "```"
   ]
  },
  {
   "cell_type": "code",
   "execution_count": 43,
   "metadata": {},
   "outputs": [
    {
     "name": "stdout",
     "output_type": "stream",
     "text": [
      "15\n",
      "11\n",
      "1 2 () {}\n",
      "1 3 () {}\n",
      "1 2 (3, 4) {'a1': 5, 'a2': 6}\n"
     ]
    }
   ],
   "source": [
    "def incrementar(numero, incremento):\n",
    "    numero += incremento\n",
    "    return numero\n",
    "print incrementar(10, 5)\n",
    "\n",
    "def incrementar(numero, incremento=1):\n",
    "    numero += incremento\n",
    "    return numero\n",
    "print incrementar(10)\n",
    "\n",
    "def imprimir_valores(x, y=2, *args, **kwargs):\n",
    "    print x, y, args, kwargs\n",
    "imprimir_valores(1)\n",
    "imprimir_valores(1, 3)\n",
    "imprimir_valores(1, 2, 3, 4, a1=5, a2=6)"
   ]
  },
  {
   "cell_type": "markdown",
   "metadata": {},
   "source": [
    "### Escopos de variáveis\n",
    "\n",
    "-   Por padrão, as variáveis têm escopo local\n",
    "    \n",
    "-   O comando *global* afeta a variável globalmente, ou seja, o escopo do módulo\n",
    "\n",
    "#### Exemplo\n",
    "\n",
    "```\n",
    "print '# Escopo Local'\n",
    "x = 1\n",
    "def alterar_x():\n",
    "    x = 10\n",
    "    print 'Valor de x alterado:', x\n",
    "print 'Valor de x:', x\n",
    "alterar_x()\n",
    "print 'Valor de x:', x\n",
    "\n",
    "print '\\n# Escopo Global'\n",
    "x = 1\n",
    "def alterar_x():\n",
    "    global x\n",
    "    x = 10\n",
    "    print 'Valor de x alterado:', x\n",
    "print 'Valor de x:', x\n",
    "alterar_x()\n",
    "print 'Valor de x:', x\n",
    "```"
   ]
  },
  {
   "cell_type": "code",
   "execution_count": 62,
   "metadata": {},
   "outputs": [
    {
     "name": "stdout",
     "output_type": "stream",
     "text": [
      "# Escopo Local\n",
      "Valor de x: 1\n",
      "Valor de x alterado: 10\n",
      "Valor de x: 1\n",
      "\n",
      "# Escopo Global\n",
      "Valor de x: 1\n",
      "Valor de x alterado: 10\n",
      "Valor de x: 10\n"
     ]
    }
   ],
   "source": [
    "print '# Escopo Local'\n",
    "x = 1\n",
    "def alterar_x():\n",
    "    x = 10\n",
    "    print 'Valor de x alterado:', x\n",
    "print 'Valor de x:', x\n",
    "alterar_x()\n",
    "print 'Valor de x:', x\n",
    "\n",
    "print '\\n# Escopo Global'\n",
    "x = 1\n",
    "def alterar_x():\n",
    "    global x\n",
    "    x = 10\n",
    "    print 'Valor de x alterado:', x\n",
    "print 'Valor de x:', x\n",
    "alterar_x()\n",
    "print 'Valor de x:', x"
   ]
  }
 ],
 "metadata": {
  "kernelspec": {
   "display_name": "Python 2",
   "language": "python",
   "name": "python2"
  },
  "language_info": {
   "codemirror_mode": {
    "name": "ipython",
    "version": 2
   },
   "file_extension": ".py",
   "mimetype": "text/x-python",
   "name": "python",
   "nbconvert_exporter": "python",
   "pygments_lexer": "ipython2",
   "version": "2.7.15"
  }
 },
 "nbformat": 4,
 "nbformat_minor": 2
}
