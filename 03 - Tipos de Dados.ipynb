{
 "cells": [
  {
   "cell_type": "markdown",
   "metadata": {},
   "source": [
    "# Curso de Extensão - Desenvolvimento Python e Django voltado para o SUAP\n",
    "\n",
    "## 03 - Tipos de Dados\n",
    "\n",
    "### Tipos Primitivos\n",
    "\n",
    "-   int (para números inteiros)\n",
    "    \n",
    "-   long (para números longos)\n",
    "    \n",
    "-   float (para ponto flutuante)\n",
    "    \n",
    "-   str (para conjunto de caracteres)\n",
    "    \n",
    "-   bool (armazena True ou False)\n",
    "    \n",
    "-   list (para agrupar um conjunto de elementos)\n",
    "    \n",
    "-   tupla (semelhante ao tipo list, porém, imutável)\n",
    "    \n",
    "-   dicionário (para agrupar elementos que serão recuperados por uma chave)"
   ]
  },
  {
   "cell_type": "markdown",
   "metadata": {},
   "source": [
    "### Inteiros - int / long\n",
    "\n",
    "-   Inteiros – int(x, base)\n",
    "\t-   -2147483648 e 2147483647 (32b)\n",
    "\t-   -NUMERÃO e +NUMERÃO (64b)\n",
    "\n",
    "-   Longos – long(x, base)\n",
    "\t-   Promoção automática de tipo\n",
    "\t-   \"L\" identificando. Prefira o \"L\" maiúsculo\n",
    "\t-   Memória é o limite\n",
    "    \n",
    "#### Exemplo\n",
    "\n",
    "```\n",
    "print type(50)\n",
    "print type(0xFF) # Hexadecimal\n",
    "print type(034) # Octal\n",
    "print 50, 0xFF, 034\n",
    "print type(50L)\n",
    "print type(0xFFFFFFFFFF) # Hexadecimal\n",
    "print 0xFFFFFFFFFF # Hexadecimal\n",
    "print type(2147483647 ** 3)\n",
    "```"
   ]
  },
  {
   "cell_type": "code",
   "execution_count": 22,
   "metadata": {},
   "outputs": [
    {
     "name": "stdout",
     "output_type": "stream",
     "text": [
      "<type 'int'>\n",
      "<type 'int'>\n",
      "<type 'int'>\n",
      "50 255 28\n",
      "<type 'long'>\n",
      "<type 'int'>\n",
      "1099511627775\n",
      "<type 'long'>\n"
     ]
    }
   ],
   "source": [
    "print type(50)\n",
    "print type(0xFF) # Hexadecimal\n",
    "print type(034) # Octal\n",
    "print 50, 0xFF, 034\n",
    "print type(50L)\n",
    "print type(0xFFFFFFFFFF) # Hexadecimal\n",
    "print 0xFFFFFFFFFF # Hexadecimal\n",
    "print type(2147483647 ** 3)"
   ]
  },
  {
   "cell_type": "markdown",
   "metadata": {},
   "source": [
    "### Ponto Flutuante - float\n",
    "\n",
    "-   Ponto flutuante – float(x)\n",
    "    -   0.12\n",
    "    -   1.27\n",
    "    -   2e-5\n",
    "\n",
    "#### Exemplo\n",
    "\n",
    "```\n",
    "print type(1.5)\n",
    "print type(7e-5)\n",
    "print type(1e10)\n",
    "print 7e-5 - 7e-3\n",
    "print 7e-5 - 7e-3\n",
    "```"
   ]
  },
  {
   "cell_type": "code",
   "execution_count": 20,
   "metadata": {},
   "outputs": [
    {
     "name": "stdout",
     "output_type": "stream",
     "text": [
      "<type 'float'>\n",
      "<type 'float'>\n",
      "<type 'float'>\n",
      "-0.00693\n",
      "-0.00693\n"
     ]
    }
   ],
   "source": [
    "print type(1.5)\n",
    "print type(7e-5)\n",
    "print type(1e10)\n",
    "print 7e-5 - 7e-3\n",
    "print 7e-5 - 7e-3"
   ]
  },
  {
   "cell_type": "markdown",
   "metadata": {},
   "source": [
    "### Booleanos - bool\n",
    "\n",
    "-   Booleano – bool(x)\n",
    "    \n",
    "    -   True e False\n",
    "    \n",
    "-   Valores Falsos:\n",
    "   \n",
    "    -   *()*, *[]*, *{}*, *set([])*, *None*, *0*, *0.0* e *\"\"*\n",
    "    -   *\\_\\_nonzero\\_\\_()* ou *\\_\\_len\\_\\_()* retornam 0\n",
    "\n",
    "#### Exemplo\n",
    "\n",
    "```\n",
    "print type(True)\n",
    "print type(False)\n",
    "print int(True)\n",
    "print int(False)\n",
    "```"
   ]
  },
  {
   "cell_type": "code",
   "execution_count": 23,
   "metadata": {},
   "outputs": [
    {
     "name": "stdout",
     "output_type": "stream",
     "text": [
      "<type 'bool'>\n",
      "<type 'bool'>\n",
      "1\n",
      "0\n"
     ]
    }
   ],
   "source": [
    "print type(True)\n",
    "print type(False)\n",
    "print int(True)\n",
    "print int(False)"
   ]
  },
  {
   "cell_type": "markdown",
   "metadata": {},
   "source": [
    "### Sequências\n",
    "\n",
    "-   São sequências:\n",
    "    -   Strings (imutável)\n",
    "    -   Listas (mutável)\n",
    "    -   Tuplas (imutável)\n",
    "-   Indexáveis\n",
    "-   Iteráveis\n",
    "-   “Fatiáveis” (slice)\n",
    "-   List comprehension\n",
    "\n",
    "#### Exemplo\n",
    "\n",
    "```\n",
    "# Indexação\n",
    "minha_lista = [1, 2 , 3, 4]\n",
    "print minha_lista[1]\n",
    "\n",
    "# Iteração\n",
    "for item in 'abcdefg': \n",
    "    print item\n",
    "    \n",
    "# Fatiamento\n",
    "minha_lista = (1, 2 , 3, 4)\n",
    "print minha_lista[0:2]\n",
    "print minha_lista[-2:]\n",
    "\n",
    "# List comprehension\n",
    "print [x*2 for x in minha_lista]\n",
    "print [x for x in minha_lista if x % 2 == 0]\n",
    "print [x for x in minha_lista if x % 2 != 0]\n",
    "```"
   ]
  },
  {
   "cell_type": "code",
   "execution_count": 41,
   "metadata": {},
   "outputs": [
    {
     "name": "stdout",
     "output_type": "stream",
     "text": [
      "2\n",
      "a\n",
      "b\n",
      "c\n",
      "d\n",
      "e\n",
      "f\n",
      "g\n",
      "(1, 2)\n",
      "(3, 4)\n",
      "[2, 4, 6, 8]\n",
      "[2, 4]\n",
      "[1, 3]\n"
     ]
    }
   ],
   "source": [
    "# Indexação\n",
    "minha_lista = [1, 2 , 3, 4]\n",
    "print minha_lista[1]\n",
    "\n",
    "# Iteração\n",
    "for item in 'abcdefg': \n",
    "    print item\n",
    "    \n",
    "# Fatiamento\n",
    "minha_lista = (1, 2 , 3, 4)\n",
    "print minha_lista[0:2]\n",
    "print minha_lista[-2:]\n",
    "\n",
    "# List comprehension\n",
    "print [x*2 for x in minha_lista]\n",
    "print [x for x in minha_lista if x % 2 == 0]\n",
    "print [x for x in minha_lista if x % 2 != 0]"
   ]
  },
  {
   "cell_type": "markdown",
   "metadata": {},
   "source": [
    "### Strings - str / unicode\n",
    "\n",
    "-   String – *str(x)*\n",
    "    -   'spam', \"spam\", \"\"\"spam\"\"\" ou '''spam'''\n",
    "    \n",
    "\n",
    "-   Unicode – *unicode(x[, codificacao[, erros]])*\n",
    "    -   u'eggs', u\"eggs\", u\"\"\"eggs\"\"\" ou u'''eggs'''\n",
    "    \n",
    "\n",
    "-   Regex strings – *r\"(\\w)\"*\n",
    "    -   docstrings\n",
    "    \n",
    "    \n",
    "-   Seqüência de caracteres – Comporta-se como uma seqüência imutável\n",
    "    -   Slice, indexação, iterável\n",
    "    \n",
    "#### Exemplo\n",
    "\n",
    "```\n",
    "print \"ola\", u\"ola\"\n",
    "print \"Ola mundo\"[5] # index\n",
    "print \"Ola mundo\"[5:] # slice\n",
    "print \"Ola mundo\"[2:5]\n",
    "print \"Ola mundo\"[:-1]\n",
    "print \"Ola mundo\"[::2]\n",
    "for c in \"Spam\":\n",
    "\tprint c * 2\n",
    "    \n",
    "print \"\\tx\"\n",
    "print r\"\\tx\"\n",
    "a = \"Olá\"\n",
    "b = a.decode(\"latin1\")\n",
    "print b.encode(\"latin1\")\n",
    "f = u\"C:\\Diretório\"\n",
    "```\n",
    "\n",
    "#### Métodos úteis\n",
    "\n",
    "- split: Quebra a String em uma lista a partir do parâmetro informado;\n",
    "- join: Junta uma lista em uma String a partir do parâmetro informado;\n",
    "- strip: Retira da String o parâmetro informado;\n",
    "- startswith: Verifica se a String começa com o parâmetro informado;\n",
    "- in: Verifica a existência do parâmetro informado na String;\n",
    "- find / index: Retorna o índice da primeira ocorrência do parâmetro informado;\n",
    "- count: Retorna a quantidade de ocorrências do parâmetro informado;\n",
    "- upper: Converte a string para caixa alta;\n",
    "- lower: Converte a string para caixa baixa.\n",
    "\n",
    "#### Exemplo\n",
    "\n",
    "```\n",
    "print \"a b c\".split(' ')\n",
    "print '\\n'.join(['a', 'b', 'c'])\n",
    "print \"xyz\".strip(\"xz\")\n",
    "print 'teste1'.startswith('teste')\n",
    "print 'func_test'.endswith('test')\n",
    "print '_' in 'func_test'\n",
    "print 'a'.find('b')\n",
    "print 'a'.index('b')\n",
    "print 'abracadabra'.count('a')\n",
    "print 'a'.upper()\n",
    "print 'A'.lower()\n",
    "```"
   ]
  },
  {
   "cell_type": "code",
   "execution_count": 70,
   "metadata": {},
   "outputs": [
    {
     "name": "stdout",
     "output_type": "stream",
     "text": [
      "ola ola\n",
      "u\n",
      "undo\n",
      "a m\n",
      "Ola mund\n",
      "Oamno\n",
      "SS\n",
      "pp\n",
      "aa\n",
      "mm\n",
      "\tx\n",
      "\\tx\n",
      "Olá\n"
     ]
    }
   ],
   "source": [
    "print \"ola\", u\"ola\"\n",
    "print \"Ola mundo\"[5] # index\n",
    "print \"Ola mundo\"[5:] # slice\n",
    "print \"Ola mundo\"[2:5]\n",
    "print \"Ola mundo\"[:-1]\n",
    "print \"Ola mundo\"[::2]\n",
    "for c in \"Spam\":\n",
    "\tprint c * 2\n",
    "    \n",
    "print \"\\tx\"\n",
    "print r\"\\tx\"\n",
    "a = \"Olá\"\n",
    "b = a.decode(\"latin1\")\n",
    "print b.encode(\"latin1\")\n",
    "f = u\"C:\\Diretório\""
   ]
  },
  {
   "cell_type": "code",
   "execution_count": 71,
   "metadata": {},
   "outputs": [
    {
     "name": "stdout",
     "output_type": "stream",
     "text": [
      "['a', 'b', 'c']\n",
      "a\n",
      "b\n",
      "c\n",
      "y\n",
      "True\n",
      "True\n",
      "True\n",
      "-1\n",
      "5\n",
      "A\n",
      "a\n"
     ]
    }
   ],
   "source": [
    "# Métodos úteis\n",
    "print \"a b c\".split(' ')\n",
    "print '\\n'.join(['a', 'b', 'c'])\n",
    "print \"xyz\".strip(\"xz\")\n",
    "print 'teste1'.startswith('teste')\n",
    "print 'func_test'.endswith('test')\n",
    "print '_' in 'func_test'\n",
    "print 'a'.find('b')\n",
    "\n",
    "# Ocorre uma exceção pois o parâmetro informado não foi encontrado na string.\n",
    "# print 'a'.index('b') \n",
    "\n",
    "print 'abracadabra'.count('a')\n",
    "print 'a'.upper()\n",
    "print 'A'.lower()"
   ]
  },
  {
   "cell_type": "markdown",
   "metadata": {},
   "source": [
    "### Listas - list\n",
    "\n",
    "-   Lista - list(x)\n",
    "\t-   [ 1, 2, 3 ], list(‘seq’)\n",
    "    \n",
    "\n",
    "-   Mutável\n",
    "\t-   lista[2] = ‘spam’ \n",
    "\t-   lista + [‘eggs’]\n",
    "    \n",
    "#### Exemplo\n",
    "\n",
    "```\n",
    "minha_lista = [1, 2, 3]\n",
    "print type(minha_lista)\n",
    "\n",
    "print list('abcdefgh')\n",
    "minha_lista2 = list('abcdefgh')\n",
    "print type(minha_lista2)\n",
    "\n",
    "minha_lista[2] = 'Teste'\n",
    "print minha_lista\n",
    "\n",
    "minha_lista3 = minha_lista2 + ['eggs']\n",
    "print minha_lista3\n",
    "```\n",
    "\n",
    "#### Métodos úteis\n",
    "\n",
    "- append: insere o elemento informado no final da lista;\n",
    "- extend: insere os elementos da lista informada no final da lista;\n",
    "- insert: insere o elemento informado na posição informada;\n",
    "- pop / pop(x): remove e retorna o último elemento da lista / remove e retorna o elemento presente na posição informada;\n",
    "- sort: ordena a lista;\n",
    "- reverse: inverte a ordem dos elementos;\n",
    "- in, .index(), e .count() funcionam da mesma forma que em uma String.\n",
    "\n",
    "#### Exemplo\n",
    "\n",
    "```\n",
    "minha_lista = ['spam', 'bacon']\n",
    "minha_lista.append('eggs')\n",
    "print minha_lista\n",
    "\n",
    "minha_lista.extend(['orange juice', 'waffles', 'honey'])\n",
    "print minha_lista\n",
    "\n",
    "minha_lista.insert(0, 'teste')\n",
    "print minha_lista\n",
    "\n",
    "print minha_lista.pop()\n",
    "print minha_lista.pop(0)\n",
    "\n",
    "minha_lista.sort()\n",
    "print minha_lista\n",
    "\n",
    "minha_lista.reverse()\n",
    "print minha_lista\n",
    "```"
   ]
  },
  {
   "cell_type": "code",
   "execution_count": 79,
   "metadata": {},
   "outputs": [
    {
     "name": "stdout",
     "output_type": "stream",
     "text": [
      "<type 'list'>\n",
      "['a', 'b', 'c', 'd', 'e', 'f', 'g', 'h']\n",
      "<type 'list'>\n",
      "[1, 2, 'Teste']\n",
      "['a', 'b', 'c', 'd', 'e', 'f', 'g', 'h', 'eggs']\n"
     ]
    }
   ],
   "source": [
    "minha_lista = [1, 2, 3]\n",
    "print type(minha_lista)\n",
    "\n",
    "print list('abcdefgh')\n",
    "minha_lista2 = list('abcdefgh')\n",
    "print type(minha_lista2)\n",
    "\n",
    "minha_lista[2] = 'Teste'\n",
    "print minha_lista\n",
    "\n",
    "minha_lista3 = minha_lista2 + ['eggs']\n",
    "print minha_lista3"
   ]
  },
  {
   "cell_type": "code",
   "execution_count": 80,
   "metadata": {},
   "outputs": [
    {
     "name": "stdout",
     "output_type": "stream",
     "text": [
      "['spam', 'bacon', 'eggs']\n",
      "['spam', 'bacon', 'eggs', 'orange juice', 'waffles', 'honey']\n",
      "['teste', 'spam', 'bacon', 'eggs', 'orange juice', 'waffles', 'honey']\n",
      "honey\n",
      "teste\n",
      "['bacon', 'eggs', 'orange juice', 'spam', 'waffles']\n",
      "['waffles', 'spam', 'orange juice', 'eggs', 'bacon']\n"
     ]
    }
   ],
   "source": [
    "minha_lista = ['spam', 'bacon']\n",
    "minha_lista.append('eggs')\n",
    "print minha_lista\n",
    "\n",
    "minha_lista.extend(['orange juice', 'waffles', 'honey'])\n",
    "print minha_lista\n",
    "\n",
    "minha_lista.insert(0, 'teste')\n",
    "print minha_lista\n",
    "\n",
    "print minha_lista.pop()\n",
    "print minha_lista.pop(0)\n",
    "\n",
    "minha_lista.sort()\n",
    "print minha_lista\n",
    "\n",
    "minha_lista.reverse()\n",
    "print minha_lista"
   ]
  },
  {
   "cell_type": "markdown",
   "metadata": {},
   "source": [
    "### Tuplas - tuple\n",
    "\n",
    "-   Tupla – tuple(x)\n",
    "    -   ( 1, 2, 3 ), tuple([1,2,3])\n",
    "    \n",
    "    \n",
    "-   Imutável\n",
    "\t-   tupla[2] = 'spam' # Erro!\n",
    "\t-   tupla + ['eggs'] # Erro!\n",
    "\n",
    "\n",
    "-   Consome menos recursos que list()\n",
    "\n",
    "#### Exemplo\n",
    "\n",
    "```\n",
    "minha_tupla = (1, 2, 3)\n",
    "print type(minha_tupla)\n",
    "\n",
    "print tuple('abcdefgh')\n",
    "minha_tupla2 = tuple('abcdefgh')\n",
    "print type(minha_tupla2)\n",
    "\n",
    "minha_tupla[2] = 'Teste'\n",
    "print minha_tupla\n",
    "\n",
    "minha_tupla3 = minha_tupla2 + ['eggs']\n",
    "print minha_tupla3\n",
    "```"
   ]
  },
  {
   "cell_type": "code",
   "execution_count": 88,
   "metadata": {},
   "outputs": [
    {
     "name": "stdout",
     "output_type": "stream",
     "text": [
      "<type 'tuple'>\n",
      "('a', 'b', 'c', 'd', 'e', 'f', 'g', 'h')\n",
      "<type 'tuple'>\n",
      "('a', 'b', 'c', 'd', 'e', 'f', 'g', 'h', 'eggs')\n"
     ]
    }
   ],
   "source": [
    "minha_tupla = (1, 2, 3)\n",
    "print type(minha_tupla)\n",
    "\n",
    "print tuple('abcdefgh')\n",
    "minha_tupla2 = tuple('abcdefgh')\n",
    "print type(minha_tupla2)\n",
    "\n",
    "# Ocorre uma exceção pois a tupla é imutável, ou seja, não permite alteração de valores. \n",
    "# minha_tupla[2] = 'Teste'\n",
    "# print minha_tupla\n",
    "\n",
    "minha_tupla3 = minha_tupla2 + ('eggs',)\n",
    "print minha_tupla3"
   ]
  },
  {
   "cell_type": "markdown",
   "metadata": {},
   "source": [
    "### Dicionários - dict\n",
    "\n",
    "-   Dicionário – *dict(x)*\n",
    "    -   { 'chave1': 'valor1', 'chave2': 'valor2' }\n",
    "    \n",
    "    -   dict(k1=v1, k2=v2)\n",
    "    \n",
    "\n",
    "-   Mutável\n",
    "    -   dicionario['chave1'] = 'valor novo'\n",
    "    -   dicionario['chave nova'] = 1\n",
    "    \n",
    "\n",
    "-   Hashmap (não preserva ordem das chaves)\n",
    "    \n",
    "-   Python usa dicionários em toda sua implementação\n",
    "\n",
    "\n",
    "#### Exemplo\n",
    "\n",
    "```\n",
    "meu_dicionario = {'nome': u'João', 'idade': '18', 'email': 'joao@acme.com'}\n",
    "print type(meu_dicionario)\n",
    "\n",
    "meu_dicionario2 = dict()\n",
    "meu_dicionario2['nome'] = 'Maria'\n",
    "meu_dicionario2['idade'] = '22'\n",
    "meu_dicionario2['email'] = 'maria@acme.com'\n",
    "print type(meu_dicionario2)\n",
    "\n",
    "print meu_dicionario['nome']\n",
    "\n",
    "# Ocorre uma exceção pois chave não existe no dicionário. \n",
    "# print meu_dicionario['telefone']\n",
    "\n",
    "print meu_dicionario.get('telefone', '3232-3232')\n",
    "```\n",
    "\n",
    "#### Métodos úteis\n",
    "\n",
    "- append: insere o elemento informado no final da lista;\n",
    "- extend: insere os elementos da lista informada no final da lista;\n",
    "- insert: insere o elemento informado na posição informada;\n",
    "- pop / pop(x): remove e retorna o último elemento da lista / remove e retorna o elemento presente na posição informada;\n",
    "- sort: ordena a lista;\n",
    "- reverse: inverte a ordem dos elementos;\n",
    "- in, .index(), e .count() funcionam da mesma forma que em uma String.\n",
    "\n",
    "#### Exemplo\n",
    "\n",
    "```\n",
    "\n",
    "```"
   ]
  },
  {
   "cell_type": "code",
   "execution_count": 102,
   "metadata": {},
   "outputs": [
    {
     "name": "stdout",
     "output_type": "stream",
     "text": [
      "<type 'dict'>\n",
      "<type 'dict'>\n",
      "João\n",
      "Maria\n"
     ]
    },
    {
     "ename": "KeyError",
     "evalue": "'telefone'",
     "output_type": "error",
     "traceback": [
      "\u001b[0;31m---------------------------------------------------------------------------\u001b[0m",
      "\u001b[0;31mKeyError\u001b[0m                                  Traceback (most recent call last)",
      "\u001b[0;32m<ipython-input-102-366e2bfa8918>\u001b[0m in \u001b[0;36m<module>\u001b[0;34m()\u001b[0m\n\u001b[1;32m     12\u001b[0m \u001b[0;34m\u001b[0m\u001b[0m\n\u001b[1;32m     13\u001b[0m \u001b[0;31m# Ocorre uma exceção pois chave não existe no dicionário.\u001b[0m\u001b[0;34m\u001b[0m\u001b[0;34m\u001b[0m\u001b[0m\n\u001b[0;32m---> 14\u001b[0;31m \u001b[0;32mprint\u001b[0m \u001b[0mmeu_dicionario\u001b[0m\u001b[0;34m[\u001b[0m\u001b[0;34m'telefone'\u001b[0m\u001b[0;34m]\u001b[0m\u001b[0;34m\u001b[0m\u001b[0m\n\u001b[0m",
      "\u001b[0;31mKeyError\u001b[0m: 'telefone'"
     ]
    }
   ],
   "source": [
    "meu_dicionario = {'nome': u'João', 'idade': '18', 'email': 'joao@acme.com'}\n",
    "print type(meu_dicionario)\n",
    "\n",
    "meu_dicionario2 = dict()\n",
    "meu_dicionario2['nome'] = 'Maria'\n",
    "meu_dicionario2['idade'] = '22'\n",
    "meu_dicionario2['email'] = 'maria@acme.com'\n",
    "print type(meu_dicionario2)\n",
    "\n",
    "print meu_dicionario['nome']\n",
    "print meu_dicionario2['nome']\n",
    "\n",
    "# Ocorre uma exceção pois chave não existe no dicionário. \n",
    "print meu_dicionario['telefone']"
   ]
  },
  {
   "cell_type": "code",
   "execution_count": null,
   "metadata": {},
   "outputs": [],
   "source": []
  }
 ],
 "metadata": {
  "kernelspec": {
   "display_name": "Python 2",
   "language": "python",
   "name": "python2"
  },
  "language_info": {
   "codemirror_mode": {
    "name": "ipython",
    "version": 2
   },
   "file_extension": ".py",
   "mimetype": "text/x-python",
   "name": "python",
   "nbconvert_exporter": "python",
   "pygments_lexer": "ipython2",
   "version": "2.7.15"
  }
 },
 "nbformat": 4,
 "nbformat_minor": 2
}
