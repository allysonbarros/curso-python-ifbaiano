{
 "cells": [
  {
   "cell_type": "markdown",
   "metadata": {},
   "source": [
    "# Curso de Extensão - Desenvolvimento Python e Django voltado para o SUAP\n",
    "\n",
    "## 02 - Operadores\n",
    "\n",
    "### Numéricos\n",
    "\n",
    "O Python pode ser utilizado como uma calculadora matemática avançada. Praticamente, todos os operadores aritméticos funcionam da mesma forma como os conhecemos da matemática elementar. Por exemplo, para trabalharmos com as 4 principais funções matemáticas, a soma, subtração, multiplicação e divisão, temos os operadores conforme tabela a seguir.\n",
    "\n",
    "|Operação|Operador|\n",
    "|---|---|\n",
    "|adição|+|\n",
    "|subtração|-|\n",
    "|multiplicação|\\*|\n",
    "|divisão|/|\n",
    "\n",
    "Tempos também, operadores para exponenciação, obtenção da parte inteira de uma divisão, extração do módulo da divisão, conforme pode ser visto na tabela a seguir:\n",
    "\n",
    "|Operação|Operador|\n",
    "|---|---|\n",
    "|exponenciação|\\*\\*|\n",
    "|parte inteira|//|\n",
    "|módulo|%|\n",
    "\n",
    "#### Exemplo\n",
    "\n",
    "Utilizando o Python como uma calculadora para realizar cada uma das operações apresentadas acima.\n",
    "\n",
    "```\n",
    "# Soma\n",
    "print 5 + 5\n",
    "\n",
    "# Subtração\n",
    "print 10 - 2\n",
    "\n",
    "# Multiplicação\n",
    "print 2 * 2\n",
    "\n",
    "# Divisão\n",
    "print 81 / 9\n",
    "\n",
    "# Exponenciação\n",
    "print 2 ** 5\n",
    "\n",
    "# Extração da parte inteira da divisão\n",
    "print 10 // 9\n",
    "\n",
    "# Módulo da divisão\n",
    "print 63 % 8\n",
    "```"
   ]
  },
  {
   "cell_type": "code",
   "execution_count": 17,
   "metadata": {},
   "outputs": [
    {
     "name": "stdout",
     "output_type": "stream",
     "text": [
      "10\n",
      "8\n",
      "4\n",
      "9\n",
      "32\n",
      "1\n",
      "7\n"
     ]
    }
   ],
   "source": [
    "# Soma\n",
    "print 5 + 5\n",
    "\n",
    "# Subtração\n",
    "print 10 - 2\n",
    "\n",
    "# Multiplicação\n",
    "print 2 * 2\n",
    "\n",
    "# Divisão\n",
    "print 81 / 9\n",
    "\n",
    "# Exponenciação\n",
    "print 2 ** 5\n",
    "\n",
    "# Extração da parte inteira da divisão\n",
    "print 10 // 9\n",
    "\n",
    "# Módulo da divisão\n",
    "print 63 % 8"
   ]
  },
  {
   "cell_type": "markdown",
   "metadata": {},
   "source": [
    "### Relacionais\n",
    "\n",
    "Operador Relacional é todo operador que obtém a relação do membro a esquerda com o membro a sua direita. Na tabela abaixo, temos os operadores relacionais disponibilizados pelo Python.\n",
    "\n",
    "|Descrição|Operador|\n",
    "|---|---|\n",
    "|Maior que|>|\n",
    "|Menor que|<|\n",
    "|Igual a|=|\n",
    "|Maior ou igual a|>=|\n",
    "|Menor ou igual a|<=|\n",
    "\n",
    "#### Exemplo\n",
    "\n",
    "Utilizando o Python para verificar cada uma das operações relacionais apresentadas acima.\n",
    "\n",
    "```\n",
    "print 1 == 1\n",
    "print 5 < 3\n",
    "print 9 > 2\n",
    "print 7 >= 4\n",
    "print 8 <= 6\n",
    "```"
   ]
  },
  {
   "cell_type": "code",
   "execution_count": 22,
   "metadata": {},
   "outputs": [
    {
     "name": "stdout",
     "output_type": "stream",
     "text": [
      "True\n",
      "False\n",
      "True\n",
      "True\n",
      "False\n"
     ]
    }
   ],
   "source": [
    "print 1 == 1\n",
    "print 5 < 3\n",
    "print 9 > 2\n",
    "print 7 >= 4\n",
    "print 8 <= 6"
   ]
  },
  {
   "cell_type": "markdown",
   "metadata": {},
   "source": [
    "### Lógicos\n",
    "\n",
    "Expressões aritméticas, como 2 + 3 \\* 4, são formadas por valores e operadores aritméticos. De maneira semelhante, expressões lógicas ou booleanas são formadas por valores e os operadores lógicos tais como ***and***, ***or*** e ***not***.\n",
    "\n",
    "#### Operador ***and***\n",
    "\n",
    "Dados dois valores booleanos a e b, o operador lógico ***and*** resulta em ***True*** apenas quando a e b foram ambos True, e retorna ***False*** em caso contrário.\n",
    "\n",
    "##### Exemplo\n",
    "\n",
    "```\n",
    "a = True\n",
    "b = False\n",
    "print \"Valor de 'a and b': \", a and b\n",
    "```\n",
    "\n",
    "#### Operador ***or***\n",
    "\n",
    "Dados dois valores booleanos a e b, o operador lógico ***or*** resulta em ***False*** apenas quando a e b foram ambos False, e retorna ***True*** em caso contrário.\n",
    "\n",
    "##### Exemplo\n",
    "\n",
    "```\n",
    "a = True\n",
    "b = False\n",
    "print \"Valor de 'a or b': \", a or b\n",
    "```\n",
    "\n",
    "#### Operador ***not***\n",
    "\n",
    "O operador lógico ***not*** muda o valor de seu argumento, ou seja, ***not True*** é ***False***, e ***not False*** é ***True***.\n",
    "\n",
    "```\n",
    "a = True\n",
    "b = False\n",
    "print \"Valor de 'not a': \", not a\n",
    "print \"Valor de 'not b': \", not b\n",
    "```"
   ]
  },
  {
   "cell_type": "code",
   "execution_count": 24,
   "metadata": {},
   "outputs": [
    {
     "name": "stdout",
     "output_type": "stream",
     "text": [
      "Valor de 'a and b':  False\n"
     ]
    }
   ],
   "source": [
    "a = True\n",
    "b = False\n",
    "print \"Valor de 'a and b': \", a and b"
   ]
  },
  {
   "cell_type": "code",
   "execution_count": 25,
   "metadata": {},
   "outputs": [
    {
     "name": "stdout",
     "output_type": "stream",
     "text": [
      "Valor de 'a or b':  True\n"
     ]
    }
   ],
   "source": [
    "a = True\n",
    "b = False\n",
    "print \"Valor de 'a or b': \", a or b"
   ]
  },
  {
   "cell_type": "code",
   "execution_count": 26,
   "metadata": {},
   "outputs": [
    {
     "name": "stdout",
     "output_type": "stream",
     "text": [
      "Valor de 'not a':  False\n",
      "Valor de 'not b':  True\n"
     ]
    }
   ],
   "source": [
    "a = True\n",
    "b = False\n",
    "print \"Valor de 'not a': \", not a\n",
    "print \"Valor de 'not b': \", not b"
   ]
  },
  {
   "cell_type": "markdown",
   "metadata": {},
   "source": [
    "### Atribuição\n",
    "\n",
    "A Atribuição de Valores é a passagem de informação a determinada variável. Toda variável, por sua definição, pode receber valores ou então, pode ter seu valor alterado.\n",
    "\n",
    "A linguagem Python tem definido que o sinal que conhecemos pelo nome de igual ( = ) será o operador de atribuição.\n",
    "\n",
    "##### Exemplo\n",
    "\n",
    "```\n",
    "# Atribuição Simples\n",
    "num = 10\n",
    "txt = \"texto\"\n",
    "\n",
    "# Atribuição Múltipla\n",
    "x, y = 10, 20\n",
    "a, b, c = 2, 4, 6\n",
    "```\n",
    "\n",
    "#### Operadores Compostos\n",
    "\n",
    "Os Operadores de Atribuição Compostos realizam uma operação e em seguida, atribuem o resultado da operação para a variável que está a esquerda do operador de atribuição. A seguir, temos a lista com os 5 operadores compostos do Python:\n",
    "\n",
    "|Descrição|Operador|\n",
    "|---|---|\n",
    "|Mais igual|+=|\n",
    "|Menos igual|-=|\n",
    "|vezes igual|\\*=|\n",
    "|Dividido igual|/=|\n",
    "|Módulo igual|%=|\n",
    "\n",
    "##### Exemplo\n",
    "\n",
    "```\n",
    "maisIgual, menosIgual, vezesIgual, divididoIgual, moduloIgual = 9, 9, 9, 9, 9\n",
    "maisIgual += 1\n",
    "menosIgual -= 1\n",
    "vezesIgual *= 2\n",
    "divididoIgual /= 3\n",
    "moduloIgual %= 2\n",
    "\n",
    "print maisIgual\n",
    "print menosIgual\n",
    "print vezesIgual\n",
    "print divididoIgual\n",
    "print moduloIgual\n",
    "```"
   ]
  },
  {
   "cell_type": "code",
   "execution_count": 36,
   "metadata": {},
   "outputs": [
    {
     "name": "stdout",
     "output_type": "stream",
     "text": [
      "10\n",
      "8\n",
      "18\n",
      "3\n",
      "1\n"
     ]
    }
   ],
   "source": [
    "maisIgual, menosIgual, vezesIgual, divididoIgual, moduloIgual = 9, 9, 9, 9, 9\n",
    "maisIgual += 1\n",
    "menosIgual -= 1\n",
    "vezesIgual *= 2\n",
    "divididoIgual /= 3\n",
    "moduloIgual %= 2\n",
    "\n",
    "print maisIgual\n",
    "print menosIgual\n",
    "print vezesIgual\n",
    "print divididoIgual\n",
    "print moduloIgual"
   ]
  }
 ],
 "metadata": {
  "kernelspec": {
   "display_name": "Python 2",
   "language": "python",
   "name": "python2"
  },
  "language_info": {
   "codemirror_mode": {
    "name": "ipython",
    "version": 2
   },
   "file_extension": ".py",
   "mimetype": "text/x-python",
   "name": "python",
   "nbconvert_exporter": "python",
   "pygments_lexer": "ipython2",
   "version": "2.7.15"
  }
 },
 "nbformat": 4,
 "nbformat_minor": 2
}
